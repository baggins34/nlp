{
 "cells": [
  {
   "cell_type": "code",
   "execution_count": 1,
   "id": "b4aedf9a",
   "metadata": {},
   "outputs": [
    {
     "data": {
      "text/plain": [
       "True"
      ]
     },
     "execution_count": 1,
     "metadata": {},
     "output_type": "execute_result"
    }
   ],
   "source": [
    "'phone' in 'what is your phone number?'"
   ]
  },
  {
   "cell_type": "code",
   "execution_count": 2,
   "id": "92e4f1f2",
   "metadata": {},
   "outputs": [
    {
     "data": {
      "text/plain": [
       "True"
      ]
     },
     "execution_count": 2,
     "metadata": {},
     "output_type": "execute_result"
    }
   ],
   "source": [
    "'phone' in 'what is your phonenumber?'"
   ]
  },
  {
   "cell_type": "code",
   "execution_count": 11,
   "id": "525a99d3",
   "metadata": {},
   "outputs": [],
   "source": [
    "text = 'The phone number is 123-456-7890. You better call the phone'"
   ]
  },
  {
   "cell_type": "code",
   "execution_count": 12,
   "id": "19d43e2c",
   "metadata": {},
   "outputs": [],
   "source": [
    "import re"
   ]
  },
  {
   "cell_type": "code",
   "execution_count": 13,
   "id": "a8d751f4",
   "metadata": {},
   "outputs": [],
   "source": [
    "pattern = 'phone'"
   ]
  },
  {
   "cell_type": "code",
   "execution_count": 14,
   "id": "15fd879b",
   "metadata": {},
   "outputs": [
    {
     "data": {
      "text/plain": [
       "<re.Match object; span=(4, 9), match='phone'>"
      ]
     },
     "execution_count": 14,
     "metadata": {},
     "output_type": "execute_result"
    }
   ],
   "source": [
    "re.search(pattern, text)"
   ]
  },
  {
   "cell_type": "code",
   "execution_count": 15,
   "id": "f747e0a4",
   "metadata": {},
   "outputs": [],
   "source": [
    "my_match = re.search(pattern, text)"
   ]
  },
  {
   "cell_type": "code",
   "execution_count": 16,
   "id": "709ef8b6",
   "metadata": {},
   "outputs": [
    {
     "data": {
      "text/plain": [
       "(4, 9)"
      ]
     },
     "execution_count": 16,
     "metadata": {},
     "output_type": "execute_result"
    }
   ],
   "source": [
    "my_match.span()"
   ]
  },
  {
   "cell_type": "code",
   "execution_count": 17,
   "id": "33b1d668",
   "metadata": {},
   "outputs": [
    {
     "data": {
      "text/plain": [
       "['phone', 'phone']"
      ]
     },
     "execution_count": 17,
     "metadata": {},
     "output_type": "execute_result"
    }
   ],
   "source": [
    "re.findall(pattern, text)"
   ]
  },
  {
   "cell_type": "code",
   "execution_count": 18,
   "id": "b938651a",
   "metadata": {},
   "outputs": [
    {
     "name": "stdout",
     "output_type": "stream",
     "text": [
      "(4, 9)\n",
      "(54, 59)\n"
     ]
    }
   ],
   "source": [
    "for match in re.finditer(pattern, text):\n",
    "    print(match.span())"
   ]
  },
  {
   "cell_type": "code",
   "execution_count": 20,
   "id": "93fecb35",
   "metadata": {},
   "outputs": [
    {
     "data": {
      "text/plain": [
       "'phone'"
      ]
     },
     "execution_count": 20,
     "metadata": {},
     "output_type": "execute_result"
    }
   ],
   "source": [
    "text[54:59]"
   ]
  },
  {
   "cell_type": "markdown",
   "id": "e059eae8",
   "metadata": {},
   "source": [
    "# Patterns\n",
    "\n",
    "<table ><tr><th>Character</th><th>Description</th><th>Example Pattern Code</th><th >Exammple Match</th></tr>\n",
    "\n",
    "<tr ><td><span >\\d</span></td><td>A digit</td><td>file_\\d\\d</td><td>file_25</td></tr>\n",
    "\n",
    "<tr ><td><span >\\w</span></td><td>Alphanumeric</td><td>\\w-\\w\\w\\w</td><td>A-b_1</td></tr>\n",
    "\n",
    "\n",
    "\n",
    "<tr ><td><span >\\s</span></td><td>White space</td><td>a\\sb\\sc</td><td>a b c</td></tr>\n",
    "\n",
    "\n",
    "\n",
    "<tr ><td><span >\\D</span></td><td>A non digit</td><td>\\D\\D\\D</td><td>ABC</td></tr>\n",
    "\n",
    "<tr ><td><span >\\W</span></td><td>Non-alphanumeric</td><td>\\W\\W\\W\\W\\W</td><td>*-+=)</td></tr>\n",
    "\n",
    "<tr ><td><span >\\S</span></td><td>Non-whitespace</td><td>\\S\\S\\S\\S</td><td>Yoyo</td></tr></table>"
   ]
  },
  {
   "cell_type": "code",
   "execution_count": 21,
   "id": "2fada7d3",
   "metadata": {},
   "outputs": [
    {
     "data": {
      "text/plain": [
       "'The phone number is 123-456-7890. You better call the phone'"
      ]
     },
     "execution_count": 21,
     "metadata": {},
     "output_type": "execute_result"
    }
   ],
   "source": [
    "text"
   ]
  },
  {
   "cell_type": "code",
   "execution_count": 22,
   "id": "03575de9",
   "metadata": {},
   "outputs": [],
   "source": [
    "pattern = r'\\d\\d\\d-\\d\\d\\d-\\d\\d\\d\\d'"
   ]
  },
  {
   "cell_type": "code",
   "execution_count": 25,
   "id": "84aafe31",
   "metadata": {},
   "outputs": [
    {
     "data": {
      "text/plain": [
       "<re.Match object; span=(20, 32), match='123-456-7890'>"
      ]
     },
     "execution_count": 25,
     "metadata": {},
     "output_type": "execute_result"
    }
   ],
   "source": [
    "phone_number = re.search(pattern, text)\n",
    "phone_number"
   ]
  },
  {
   "cell_type": "code",
   "execution_count": 26,
   "id": "bcf6b321",
   "metadata": {},
   "outputs": [
    {
     "data": {
      "text/plain": [
       "'123-456-7890'"
      ]
     },
     "execution_count": 26,
     "metadata": {},
     "output_type": "execute_result"
    }
   ],
   "source": [
    "phone_number.group()"
   ]
  },
  {
   "cell_type": "code",
   "execution_count": 27,
   "id": "6fe0aa71",
   "metadata": {},
   "outputs": [],
   "source": [
    "new_text = 'The phone number of victor is 123-456-7890. The mobile number of Alyssa is 098-765-4321. Yass Queen'"
   ]
  },
  {
   "cell_type": "code",
   "execution_count": 29,
   "id": "f79f9c71",
   "metadata": {},
   "outputs": [
    {
     "data": {
      "text/plain": [
       "<re.Match object; span=(30, 42), match='123-456-7890'>"
      ]
     },
     "execution_count": 29,
     "metadata": {},
     "output_type": "execute_result"
    }
   ],
   "source": [
    "new_match = re.search(pattern, new_text)\n",
    "new_match"
   ]
  },
  {
   "cell_type": "code",
   "execution_count": 31,
   "id": "a813a282",
   "metadata": {},
   "outputs": [
    {
     "name": "stdout",
     "output_type": "stream",
     "text": [
      "123-456-7890\n",
      "098-765-4321\n"
     ]
    }
   ],
   "source": [
    "for match in re.finditer(pattern, new_text):\n",
    "    print(match.group())"
   ]
  },
  {
   "cell_type": "markdown",
   "id": "5d395e42",
   "metadata": {},
   "source": [
    "# Quantifiers"
   ]
  },
  {
   "cell_type": "markdown",
   "id": "bf72b1bc",
   "metadata": {},
   "source": [
    "<table ><tr><th>Character</th><th>Description</th><th>Example Pattern Code</th><th >Exammple Match</th></tr>\n",
    "\n",
    "<tr ><td><span >+</span></td><td>Occurs one or more times</td><td>\tVersion \\w-\\w+</td><td>Version A-b1_1</td></tr>\n",
    "\n",
    "<tr ><td><span >{3}</span></td><td>Occurs exactly 3 times</td><td>\\D{3}</td><td>abc</td></tr>\n",
    "\n",
    "\n",
    "\n",
    "<tr ><td><span >{2,4}</span></td><td>Occurs 2 to 4 times</td><td>\\d{2,4}</td><td>123</td></tr>\n",
    "\n",
    "\n",
    "\n",
    "<tr ><td><span >{3,}</span></td><td>Occurs 3 or more</td><td>\\w{3,}</td><td>anycharacters</td></tr>\n",
    "\n",
    "<tr ><td><span >\\*</span></td><td>Occurs zero or more times</td><td>A\\*B\\*C*</td><td>AAACC</td></tr>\n",
    "\n",
    "<tr ><td><span >?</span></td><td>Once or none</td><td>plurals?</td><td>plural</td></tr></table>"
   ]
  },
  {
   "cell_type": "code",
   "execution_count": 34,
   "id": "7597896e",
   "metadata": {},
   "outputs": [],
   "source": [
    "q_pattern = r'\\d{3}-\\d{3}-\\d{4}'"
   ]
  },
  {
   "cell_type": "code",
   "execution_count": 35,
   "id": "e23d9de7",
   "metadata": {},
   "outputs": [
    {
     "name": "stdout",
     "output_type": "stream",
     "text": [
      "123-456-7890\n",
      "098-765-4321\n"
     ]
    }
   ],
   "source": [
    "for q_match in re.finditer(q_pattern, new_text):\n",
    "    print(q_match.group())"
   ]
  },
  {
   "cell_type": "markdown",
   "id": "b3478973",
   "metadata": {},
   "source": [
    "# Grouping"
   ]
  },
  {
   "cell_type": "code",
   "execution_count": 38,
   "id": "c876f8fb",
   "metadata": {},
   "outputs": [],
   "source": [
    "pattern = r'(\\d{3})-(\\d{3})-(\\d{4})' # Now the pattern is grouped"
   ]
  },
  {
   "cell_type": "code",
   "execution_count": 39,
   "id": "0448de2a",
   "metadata": {},
   "outputs": [
    {
     "name": "stdout",
     "output_type": "stream",
     "text": [
      "456\n",
      "765\n"
     ]
    }
   ],
   "source": [
    "for match in re.finditer(pattern, new_text):\n",
    "    print(match.group(2))"
   ]
  },
  {
   "cell_type": "code",
   "execution_count": 41,
   "id": "dd5960ea",
   "metadata": {},
   "outputs": [
    {
     "name": "stdout",
     "output_type": "stream",
     "text": [
      "<re.Match object; span=(20, 24), match='orcs'>\n",
      "orcs\n"
     ]
    }
   ],
   "source": [
    "# We can also use pipe operators and-or\n",
    "match = re.search(r\"elves|orcs\",\"Do you know how the orcs came to be\")\n",
    "print(match)\n",
    "print(match.group())"
   ]
  },
  {
   "cell_type": "code",
   "execution_count": 47,
   "id": "2703b737",
   "metadata": {},
   "outputs": [
    {
     "name": "stdout",
     "output_type": "stream",
     "text": [
      "['Mor', 'dor', ' or', 'for', 'oor']\n"
     ]
    }
   ],
   "source": [
    "match = re.findall(r\".or\",\"The language of Mordor or Sauron is for Black Door\")\n",
    "print(match)"
   ]
  },
  {
   "cell_type": "code",
   "execution_count": 48,
   "id": "5c4e3cb6",
   "metadata": {},
   "outputs": [
    {
     "name": "stdout",
     "output_type": "stream",
     "text": [
      "[' Mor', 'r or', ' for', 'Door']\n"
     ]
    }
   ],
   "source": [
    "match = re.findall(r\"..or\",\"The language of Mordor or Sauron is for Black Door\")\n",
    "print(match)"
   ]
  },
  {
   "cell_type": "code",
   "execution_count": 55,
   "id": "27865cc2",
   "metadata": {},
   "outputs": [
    {
     "data": {
      "text/plain": [
       "['2']"
      ]
     },
     "execution_count": 55,
     "metadata": {},
     "output_type": "execute_result"
    }
   ],
   "source": [
    "# The ones end with 'or'\n",
    "re.findall(r'\\d$','This ends with a number 2')"
   ]
  },
  {
   "cell_type": "code",
   "execution_count": 56,
   "id": "09ee0767",
   "metadata": {},
   "outputs": [
    {
     "data": {
      "text/plain": [
       "['1']"
      ]
     },
     "execution_count": 56,
     "metadata": {},
     "output_type": "execute_result"
    }
   ],
   "source": [
    "# Starts with a number\n",
    "re.findall(r'^\\d','1 is the loneliest number.')"
   ]
  },
  {
   "cell_type": "code",
   "execution_count": 57,
   "id": "6db1db8b",
   "metadata": {},
   "outputs": [],
   "source": [
    "phrase = '3 were given to the elves. 7 to the dwarf lords. And 9, 9 rings were gifted to the race of men.'"
   ]
  },
  {
   "cell_type": "code",
   "execution_count": 58,
   "id": "91ea5496",
   "metadata": {
    "collapsed": true
   },
   "outputs": [
    {
     "data": {
      "text/plain": [
       "[' ',\n",
       " 'w',\n",
       " 'e',\n",
       " 'r',\n",
       " 'e',\n",
       " ' ',\n",
       " 'g',\n",
       " 'i',\n",
       " 'v',\n",
       " 'e',\n",
       " 'n',\n",
       " ' ',\n",
       " 't',\n",
       " 'o',\n",
       " ' ',\n",
       " 't',\n",
       " 'h',\n",
       " 'e',\n",
       " ' ',\n",
       " 'e',\n",
       " 'l',\n",
       " 'v',\n",
       " 'e',\n",
       " 's',\n",
       " '.',\n",
       " ' ',\n",
       " ' ',\n",
       " 't',\n",
       " 'o',\n",
       " ' ',\n",
       " 't',\n",
       " 'h',\n",
       " 'e',\n",
       " ' ',\n",
       " 'd',\n",
       " 'w',\n",
       " 'a',\n",
       " 'r',\n",
       " 'f',\n",
       " ' ',\n",
       " 'l',\n",
       " 'o',\n",
       " 'r',\n",
       " 'd',\n",
       " 's',\n",
       " '.',\n",
       " ' ',\n",
       " 'A',\n",
       " 'n',\n",
       " 'd',\n",
       " ' ',\n",
       " ',',\n",
       " ' ',\n",
       " ' ',\n",
       " 'r',\n",
       " 'i',\n",
       " 'n',\n",
       " 'g',\n",
       " 's',\n",
       " ' ',\n",
       " 'w',\n",
       " 'e',\n",
       " 'r',\n",
       " 'e',\n",
       " ' ',\n",
       " 'g',\n",
       " 'i',\n",
       " 'f',\n",
       " 't',\n",
       " 'e',\n",
       " 'd',\n",
       " ' ',\n",
       " 't',\n",
       " 'o',\n",
       " ' ',\n",
       " 't',\n",
       " 'h',\n",
       " 'e',\n",
       " ' ',\n",
       " 'r',\n",
       " 'a',\n",
       " 'c',\n",
       " 'e',\n",
       " ' ',\n",
       " 'o',\n",
       " 'f',\n",
       " ' ',\n",
       " 'm',\n",
       " 'e',\n",
       " 'n',\n",
       " '.']"
      ]
     },
     "execution_count": 58,
     "metadata": {},
     "output_type": "execute_result"
    }
   ],
   "source": [
    "# Let's exclude any digits \n",
    "re.findall(r\"[^\\d]\",phrase)"
   ]
  },
  {
   "cell_type": "code",
   "execution_count": 59,
   "id": "3dfe9119",
   "metadata": {},
   "outputs": [
    {
     "data": {
      "text/plain": [
       "[' were given to the elves. ',\n",
       " ' to the dwarf lords. And ',\n",
       " ', ',\n",
       " ' rings were gifted to the race of men.']"
      ]
     },
     "execution_count": 59,
     "metadata": {},
     "output_type": "execute_result"
    }
   ],
   "source": [
    "# We can put them together by using + sign\n",
    "re.findall(r\"[^\\d]+\",phrase)"
   ]
  },
  {
   "cell_type": "markdown",
   "id": "2a8c108e",
   "metadata": {},
   "source": [
    "# Removing unwanted characters"
   ]
  },
  {
   "cell_type": "code",
   "execution_count": 65,
   "id": "cd86688e",
   "metadata": {},
   "outputs": [
    {
     "data": {
      "text/plain": [
       "'Lady Arwen? We can not delay! Tole ni lu.'"
      ]
     },
     "execution_count": 65,
     "metadata": {},
     "output_type": "execute_result"
    }
   ],
   "source": [
    "phrase = \"Lady Arwen? We can not delay! Tole ni lu.\"\n",
    "phrase"
   ]
  },
  {
   "cell_type": "code",
   "execution_count": 66,
   "id": "f9b53f05",
   "metadata": {},
   "outputs": [
    {
     "data": {
      "text/plain": [
       "['Lady Arwen', ' We can not delay', ' Tole ni lu']"
      ]
     },
     "execution_count": 66,
     "metadata": {},
     "output_type": "execute_result"
    }
   ],
   "source": [
    "re.findall(r\"[^?.!]+\", phrase)"
   ]
  },
  {
   "cell_type": "code",
   "execution_count": 67,
   "id": "e21a79c6",
   "metadata": {},
   "outputs": [
    {
     "data": {
      "text/plain": [
       "['Lady Arwen', ' We can not delay', ' Tole ni lu']"
      ]
     },
     "execution_count": 67,
     "metadata": {},
     "output_type": "execute_result"
    }
   ],
   "source": [
    "re.findall(r\"[^!.?]+\", phrase)"
   ]
  },
  {
   "cell_type": "code",
   "execution_count": 68,
   "id": "f4a48f2c",
   "metadata": {},
   "outputs": [
    {
     "data": {
      "text/plain": [
       "['Lady Arwen', ' We can not delay', ' Tole ni lu.']"
      ]
     },
     "execution_count": 68,
     "metadata": {},
     "output_type": "execute_result"
    }
   ],
   "source": [
    "re.findall(r\"[^?!]+\", phrase)"
   ]
  },
  {
   "cell_type": "code",
   "execution_count": 69,
   "id": "18494852",
   "metadata": {},
   "outputs": [],
   "source": [
    "the_list = re.findall(r\"[^?.!]+\", phrase)"
   ]
  },
  {
   "cell_type": "code",
   "execution_count": 76,
   "id": "716bbe81",
   "metadata": {},
   "outputs": [
    {
     "data": {
      "text/plain": [
       "'Lady Arwen  We can not delay  Tole ni lu'"
      ]
     },
     "execution_count": 76,
     "metadata": {},
     "output_type": "execute_result"
    }
   ],
   "source": [
    "' '.join(the_list)"
   ]
  },
  {
   "cell_type": "code",
   "execution_count": 77,
   "id": "6a2d370b",
   "metadata": {},
   "outputs": [
    {
     "data": {
      "text/plain": [
       "'Lady Arwen We can not delay Tole ni lu'"
      ]
     },
     "execution_count": 77,
     "metadata": {},
     "output_type": "execute_result"
    }
   ],
   "source": [
    "''.join(the_list)"
   ]
  },
  {
   "cell_type": "markdown",
   "id": "cc6a6915",
   "metadata": {},
   "source": [
    "# Find a specific ones"
   ]
  },
  {
   "cell_type": "code",
   "execution_count": 82,
   "id": "b1d7406d",
   "metadata": {},
   "outputs": [],
   "source": [
    "text = \"This is deep-learning1. However, your thesis is reinforcement-learning.\""
   ]
  },
  {
   "cell_type": "code",
   "execution_count": 84,
   "id": "c97f9dac",
   "metadata": {},
   "outputs": [
    {
     "data": {
      "text/plain": [
       "['deep-learning1', 'reinforcement-learning']"
      ]
     },
     "execution_count": 84,
     "metadata": {},
     "output_type": "execute_result"
    }
   ],
   "source": [
    "re.findall(r\"[\\w]+-[\\w]+\", text) # \\w is for alphanumeric "
   ]
  },
  {
   "cell_type": "code",
   "execution_count": null,
   "id": "f1377f67",
   "metadata": {},
   "outputs": [],
   "source": []
  }
 ],
 "metadata": {
  "kernelspec": {
   "display_name": "Python 3 (ipykernel)",
   "language": "python",
   "name": "python3"
  },
  "language_info": {
   "codemirror_mode": {
    "name": "ipython",
    "version": 3
   },
   "file_extension": ".py",
   "mimetype": "text/x-python",
   "name": "python",
   "nbconvert_exporter": "python",
   "pygments_lexer": "ipython3",
   "version": "3.7.13"
  }
 },
 "nbformat": 4,
 "nbformat_minor": 5
}
