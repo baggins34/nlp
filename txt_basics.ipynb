{
 "cells": [
  {
   "cell_type": "markdown",
   "id": "62f1bc1f",
   "metadata": {},
   "source": [
    "# Spacing"
   ]
  },
  {
   "cell_type": "code",
   "execution_count": 4,
   "id": "328310fb",
   "metadata": {},
   "outputs": [
    {
     "name": "stdout",
     "output_type": "stream",
     "text": [
      "Author     Topic      .....Pages\n",
      "Twain      Rafting    .......601\n",
      "Feynman    Physics    ........95\n",
      "Hamilton   Mythology  .......144\n"
     ]
    }
   ],
   "source": [
    "library = [('Author', 'Topic', 'Pages'), ('Twain', 'Rafting', 601), \n",
    "           ('Feynman', 'Physics', 95), ('Hamilton', 'Mythology', 144)]\n",
    "\n",
    "for book in library:\n",
    "    print(f'{book[0]:{10}} {book[1]:{10}} {book[2]:.>{10}}')"
   ]
  },
  {
   "cell_type": "markdown",
   "id": "aff32a70",
   "metadata": {},
   "source": [
    "# Date Time"
   ]
  },
  {
   "cell_type": "code",
   "execution_count": 6,
   "id": "1820b9a0",
   "metadata": {},
   "outputs": [],
   "source": [
    "from datetime import datetime"
   ]
  },
  {
   "cell_type": "code",
   "execution_count": 9,
   "id": "f41d3e6f",
   "metadata": {},
   "outputs": [
    {
     "data": {
      "text/plain": [
       "datetime.datetime(2060, 7, 11, 0, 0)"
      ]
     },
     "execution_count": 9,
     "metadata": {},
     "output_type": "execute_result"
    }
   ],
   "source": [
    "today = datetime(year=2060, month=7, day=11)\n",
    "today"
   ]
  },
  {
   "cell_type": "code",
   "execution_count": 10,
   "id": "afcab6e8",
   "metadata": {},
   "outputs": [
    {
     "name": "stdout",
     "output_type": "stream",
     "text": [
      "Today is July, 11, 2060\n"
     ]
    }
   ],
   "source": [
    "print(f\"Today is {today:%B, %d, %Y}\")"
   ]
  },
  {
   "cell_type": "markdown",
   "id": "bb190261",
   "metadata": {},
   "source": [
    " # Creating txt file"
   ]
  },
  {
   "cell_type": "code",
   "execution_count": 11,
   "id": "983966d8",
   "metadata": {},
   "outputs": [
    {
     "name": "stdout",
     "output_type": "stream",
     "text": [
      "Overwriting test.txt\n"
     ]
    }
   ],
   "source": [
    "%%writefile test.txt\n",
    "ash nazg durbatuluk\n",
    "ash nazg gimbatuk\n",
    "ash nazg rakkatuluk\n",
    "agh burzum ishi krimbatul"
   ]
  },
  {
   "cell_type": "code",
   "execution_count": 12,
   "id": "5653e517",
   "metadata": {},
   "outputs": [],
   "source": [
    "txt_file = open('test.txt')"
   ]
  },
  {
   "cell_type": "code",
   "execution_count": 13,
   "id": "f2a0c289",
   "metadata": {},
   "outputs": [
    {
     "data": {
      "text/plain": [
       "<_io.TextIOWrapper name='test.txt' mode='r' encoding='UTF-8'>"
      ]
     },
     "execution_count": 13,
     "metadata": {},
     "output_type": "execute_result"
    }
   ],
   "source": [
    "txt_file"
   ]
  },
  {
   "cell_type": "code",
   "execution_count": 24,
   "id": "1d588a06",
   "metadata": {},
   "outputs": [
    {
     "data": {
      "text/plain": [
       "'ash nazg durbatuluk\\nash nazg gimbatuk\\nash nazg rakkatuluk\\nagh burzum ishi krimbatul\\n'"
      ]
     },
     "execution_count": 24,
     "metadata": {},
     "output_type": "execute_result"
    }
   ],
   "source": [
    "txt_file.read()"
   ]
  },
  {
   "cell_type": "code",
   "execution_count": 32,
   "id": "1a0d3370",
   "metadata": {},
   "outputs": [
    {
     "name": "stdout",
     "output_type": "stream",
     "text": [
      "ash nazg durbatuluk\n",
      "ash nazg gimbatuk\n",
      "ash nazg rakkatuluk\n",
      "agh burzum ishi krimbatul\n",
      "\n"
     ]
    }
   ],
   "source": [
    "txt_file.seek(0) #position of the cursor is set to 0\n",
    "content = txt_file.read()\n",
    "print(content)"
   ]
  },
  {
   "cell_type": "code",
   "execution_count": 33,
   "id": "0d86f544",
   "metadata": {},
   "outputs": [],
   "source": [
    "#Always close the file\n",
    "txt_file.close()"
   ]
  },
  {
   "cell_type": "code",
   "execution_count": 46,
   "id": "20485edf",
   "metadata": {},
   "outputs": [],
   "source": [
    "txt_file = open('test.txt')"
   ]
  },
  {
   "cell_type": "code",
   "execution_count": 47,
   "id": "5de7d41e",
   "metadata": {},
   "outputs": [
    {
     "data": {
      "text/plain": [
       "['ash nazg durbatuluk\\n',\n",
       " 'ash nazg gimbatuk\\n',\n",
       " 'ash nazg rakkatuluk\\n',\n",
       " 'agh burzum ishi krimbatul\\n']"
      ]
     },
     "execution_count": 47,
     "metadata": {},
     "output_type": "execute_result"
    }
   ],
   "source": [
    "lines = txt_file.readlines()\n",
    "lines"
   ]
  },
  {
   "cell_type": "code",
   "execution_count": 48,
   "id": "1e3c4140",
   "metadata": {},
   "outputs": [
    {
     "name": "stdout",
     "output_type": "stream",
     "text": [
      "ash\n",
      "ash\n",
      "ash\n",
      "agh\n"
     ]
    }
   ],
   "source": [
    "for line in lines:\n",
    "    print(line.split()[0])"
   ]
  },
  {
   "cell_type": "code",
   "execution_count": 49,
   "id": "0b4b3246",
   "metadata": {},
   "outputs": [],
   "source": [
    "txt_file.close()"
   ]
  },
  {
   "cell_type": "code",
   "execution_count": 50,
   "id": "8a72c2f8",
   "metadata": {},
   "outputs": [
    {
     "data": {
      "text/plain": [
       "[]"
      ]
     },
     "execution_count": 50,
     "metadata": {},
     "output_type": "execute_result"
    }
   ],
   "source": [
    "# For both reading and writing 'w+'\n",
    "txt_file = open('test.txt', 'w+')\n",
    "lines = txt_file.readlines()\n",
    "lines"
   ]
  },
  {
   "cell_type": "code",
   "execution_count": 51,
   "id": "8543c2a5",
   "metadata": {},
   "outputs": [
    {
     "data": {
      "text/plain": [
       "25"
      ]
     },
     "execution_count": 51,
     "metadata": {},
     "output_type": "execute_result"
    }
   ],
   "source": [
    "txt_file.write('one ring to rule them all')"
   ]
  },
  {
   "cell_type": "code",
   "execution_count": 52,
   "id": "77c048e0",
   "metadata": {},
   "outputs": [
    {
     "data": {
      "text/plain": [
       "0"
      ]
     },
     "execution_count": 52,
     "metadata": {},
     "output_type": "execute_result"
    }
   ],
   "source": [
    "txt_file.seek(0)"
   ]
  },
  {
   "cell_type": "code",
   "execution_count": 53,
   "id": "a0395343",
   "metadata": {},
   "outputs": [
    {
     "data": {
      "text/plain": [
       "'one ring to rule them all'"
      ]
     },
     "execution_count": 53,
     "metadata": {},
     "output_type": "execute_result"
    }
   ],
   "source": [
    "txt_file.read()"
   ]
  },
  {
   "cell_type": "code",
   "execution_count": 54,
   "id": "52f004d0",
   "metadata": {},
   "outputs": [],
   "source": [
    "txt_file.close()"
   ]
  },
  {
   "cell_type": "code",
   "execution_count": 55,
   "id": "b0c9f202",
   "metadata": {},
   "outputs": [],
   "source": [
    "# For appending use 'a+'\n",
    "txt_file = open('test.txt', 'a+')"
   ]
  },
  {
   "cell_type": "code",
   "execution_count": 56,
   "id": "ea5a74ea",
   "metadata": {},
   "outputs": [
    {
     "data": {
      "text/plain": [
       "21"
      ]
     },
     "execution_count": 56,
     "metadata": {},
     "output_type": "execute_result"
    }
   ],
   "source": [
    "txt_file.write('one ring to find them')"
   ]
  },
  {
   "cell_type": "code",
   "execution_count": 57,
   "id": "20fbea11",
   "metadata": {},
   "outputs": [],
   "source": [
    "txt_file.close()"
   ]
  },
  {
   "cell_type": "code",
   "execution_count": 58,
   "id": "8bcc9430",
   "metadata": {},
   "outputs": [
    {
     "data": {
      "text/plain": [
       "'one ring to rule them allone ring to find them'"
      ]
     },
     "execution_count": 58,
     "metadata": {},
     "output_type": "execute_result"
    }
   ],
   "source": [
    "txt_file = open('test.txt')\n",
    "txt_file.read()"
   ]
  }
 ],
 "metadata": {
  "kernelspec": {
   "display_name": "Python 3 (ipykernel)",
   "language": "python",
   "name": "python3"
  },
  "language_info": {
   "codemirror_mode": {
    "name": "ipython",
    "version": 3
   },
   "file_extension": ".py",
   "mimetype": "text/x-python",
   "name": "python",
   "nbconvert_exporter": "python",
   "pygments_lexer": "ipython3",
   "version": "3.7.13"
  }
 },
 "nbformat": 4,
 "nbformat_minor": 5
}
